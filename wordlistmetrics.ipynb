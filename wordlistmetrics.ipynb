{
 "cells": [
  {
   "cell_type": "code",
   "execution_count": 53,
   "metadata": {},
   "outputs": [],
   "source": [
    "import csv\n",
    "import string\n",
    "import matplotlib.pyplot as plt\n",
    "\n",
    "letter_counts = {letter:0 for letter in string.ascii_lowercase}\n",
    "word_lengths = [0 for _ in range(32)]\n",
    "for word in csv.reader(open(\"words_alpha.txt\"), delimiter=\"\\n\"):\n",
    "    l = len(word[0])\n",
    "\n",
    "    word_lengths[l] += 1\n",
    "\n",
    "    for letter in word[0]:\n",
    "        letter_counts[letter] += 1"
   ]
  },
  {
   "cell_type": "code",
   "execution_count": 60,
   "metadata": {},
   "outputs": [
    {
     "data": {
      "image/png": "[encoded data removed]",
      "text/plain": [
       "<Figure size 432x288 with 1 Axes>"
      ]
     },
     "metadata": {
      "needs_background": "light"
     },
     "output_type": "display_data"
    },
    {
     "name": "stdout",
     "output_type": "stream",
     "text": [
      "Average length = 9.442498439623565\n"
     ]
    }
   ],
   "source": [
    "plt.bar(range(0,32), word_lengths)\n",
    "plt.xlabel(\"Word length\")\n",
    "plt.ylabel(\"No. words\")\n",
    "\n",
    "plt.show()\n",
    "print(f\"Average length = {sum([i*c for i,c in enumerate(word_lengths)])/sum(word_lengths)}\")"
   ]
  },
  {
   "cell_type": "code",
   "execution_count": 59,
   "metadata": {},
   "outputs": [
    {
     "name": "stdout",
     "output_type": "stream",
     "text": [
      "15918\n"
     ]
    }
   ],
   "source": [
    "print(word_lengths[5])"
   ]
  },
  {
   "cell_type": "code",
   "execution_count": null,
   "metadata": {},
   "outputs": [],
   "source": []
  }
 ],
 "metadata": {
  "interpreter": {
   "hash": "d4d88cb2059bd6b70d3a2d314329efc3bf8b4d191b6c973b13483e61b66ece25"
  },
  "kernelspec": {
   "display_name": "Python 3.8.12 64-bit",
   "language": "python",
   "name": "python3"
  },
  "language_info": {
   "codemirror_mode": {
    "name": "ipython",
    "version": 3
   },
   "file_extension": ".py",
   "mimetype": "text/x-python",
   "name": "python",
   "nbconvert_exporter": "python",
   "pygments_lexer": "ipython3",
   "version": "3.8.12"
  },
  "orig_nbformat": 4
 },
 "nbformat": 4,
 "nbformat_minor": 2
}
